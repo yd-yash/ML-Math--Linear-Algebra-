{
 "cells": [
  {
   "cell_type": "markdown",
   "metadata": {},
   "source": [
    "### 2. Matrices"
   ]
  },
  {
   "cell_type": "markdown",
   "metadata": {},
   "source": [
    "#### How a matrix is formed\n",
    "\n",
    "These elements are obtained from the system of linear equations:\n",
    "\n",
    "$$\\\n",
    "a_1x + b_1y + c_1z = d_1\\\\\n",
    "a_2x + b_2y + c_2z = d_2\\\\\n",
    "a_3x + b_3y + c_3z = d_3\\\\\n",
    "$$\n",
    "\n",
    "$$\\begin{bmatrix}\n",
    "a_1 & b_1 & c_1\\\\\n",
    "a_2 & b_2 & c_2\\\\\n",
    "a_3 & b_3 & c_3\n",
    "\\end{bmatrix}\n",
    "\\begin{bmatrix}\n",
    "x\\\\\n",
    "y\\\\\n",
    "z\n",
    "\\end{bmatrix}\n",
    "=\n",
    "\\begin{bmatrix}\n",
    "d_1\\\\\n",
    "d_2\\\\\n",
    "d_3\n",
    "\\end{bmatrix}$$\n",
    "   "
   ]
  },
  {
   "cell_type": "markdown",
   "metadata": {},
   "source": [
    "#### Basic Matrix Operations"
   ]
  },
  {
   "cell_type": "code",
   "execution_count": 3,
   "metadata": {},
   "outputs": [],
   "source": [
    "import numpy as np"
   ]
  },
  {
   "cell_type": "markdown",
   "metadata": {},
   "source": [
    "##### Matrix addition"
   ]
  },
  {
   "cell_type": "code",
   "execution_count": 4,
   "metadata": {},
   "outputs": [
    {
     "data": {
      "text/plain": [
       "array([[ 8, 10],\n",
       "       [12, 14]])"
      ]
     },
     "execution_count": 4,
     "metadata": {},
     "output_type": "execute_result"
    }
   ],
   "source": [
    "A = np.array([\n",
    "    [2, 3],\n",
    "    [4, 5],\n",
    "])\n",
    "\n",
    "B = np.array([\n",
    "    [6, 7],\n",
    "    [8, 9],\n",
    "])\n",
    "\n",
    "A + B"
   ]
  },
  {
   "cell_type": "markdown",
   "metadata": {},
   "source": [
    "##### Matrix Substraction"
   ]
  },
  {
   "cell_type": "code",
   "execution_count": 5,
   "metadata": {},
   "outputs": [
    {
     "data": {
      "text/plain": [
       "array([[-4, -4],\n",
       "       [-4, -4]])"
      ]
     },
     "execution_count": 5,
     "metadata": {},
     "output_type": "execute_result"
    }
   ],
   "source": [
    "A = np.array([\n",
    "    [2, 3],\n",
    "    [4, 5],\n",
    "])\n",
    "\n",
    "B = np.array([\n",
    "    [6, 7],\n",
    "    [8, 9],\n",
    "])\n",
    "\n",
    "A - B"
   ]
  },
  {
   "cell_type": "markdown",
   "metadata": {},
   "source": [
    "##### Dimensions of a Matrix"
   ]
  },
  {
   "cell_type": "code",
   "execution_count": 6,
   "metadata": {},
   "outputs": [
    {
     "data": {
      "text/plain": [
       "(2, 2)"
      ]
     },
     "execution_count": 6,
     "metadata": {},
     "output_type": "execute_result"
    }
   ],
   "source": [
    "A.shape"
   ]
  },
  {
   "cell_type": "markdown",
   "metadata": {},
   "source": [
    "##### Creating a matrix with random values"
   ]
  },
  {
   "cell_type": "code",
   "execution_count": 7,
   "metadata": {},
   "outputs": [
    {
     "name": "stdout",
     "output_type": "stream",
     "text": [
      "[[5 2 6]\n",
      " [5 4 7]\n",
      " [3 7 1]]\n",
      "[[10  3 18]\n",
      " [17 13 10]\n",
      " [ 6  5 15]]\n"
     ]
    }
   ],
   "source": [
    "mat1 = np.random.randint(10, size=(3, 3))\n",
    "mat2 = np.random.randint(20, size=(3, 3))\n",
    "print(mat1, mat2, sep='\\n')"
   ]
  },
  {
   "cell_type": "code",
   "execution_count": 8,
   "metadata": {},
   "outputs": [
    {
     "name": "stdout",
     "output_type": "stream",
     "text": [
      "[[15  5 24]\n",
      " [22 17 17]\n",
      " [ 9 12 16]]\n",
      "[[ -5  -1 -12]\n",
      " [-12  -9  -3]\n",
      " [ -3   2 -14]]\n"
     ]
    }
   ],
   "source": [
    "print(np.add(mat1, mat2))\n",
    "print(np.subtract(mat1, mat2))"
   ]
  },
  {
   "cell_type": "markdown",
   "metadata": {},
   "source": [
    "##### Matrix Multiplication"
   ]
  },
  {
   "cell_type": "code",
   "execution_count": 9,
   "metadata": {},
   "outputs": [
    {
     "name": "stdout",
     "output_type": "stream",
     "text": [
      "[[0 0 4]\n",
      " [0 4 0]\n",
      " [1 2 2]]\n",
      "[[ 0  0 20]\n",
      " [ 0 20  0]\n",
      " [ 5 10 10]]\n",
      "[[ 0  0 20]\n",
      " [ 0 20  0]\n",
      " [ 5 10 10]]\n"
     ]
    }
   ],
   "source": [
    "# Multiplying a matrix by a scaler\n",
    "x = 5\n",
    "X = np.random.randint(5, size=(3, 3))\n",
    "\n",
    "print(X)\n",
    "print(x * X)\n",
    "print(np.multiply(x, X))"
   ]
  },
  {
   "cell_type": "code",
   "execution_count": 10,
   "metadata": {},
   "outputs": [
    {
     "name": "stdout",
     "output_type": "stream",
     "text": [
      "[[7 6 9]\n",
      " [3 3 1]\n",
      " [4 1 5]]\n",
      "[[7. 0. 0.]\n",
      " [0. 3. 0.]\n",
      " [0. 0. 5.]]\n"
     ]
    }
   ],
   "source": [
    "# Multiplying two matrices element wise:\n",
    "X = np.random.randint(10, size=(3,3))\n",
    "I = np.eye(3, 3)\n",
    "print(X)\n",
    "print(np.multiply(X, I))"
   ]
  },
  {
   "cell_type": "code",
   "execution_count": 11,
   "metadata": {},
   "outputs": [
    {
     "name": "stdout",
     "output_type": "stream",
     "text": [
      "[[7. 6. 9.]\n",
      " [3. 3. 1.]\n",
      " [4. 1. 5.]]\n"
     ]
    }
   ],
   "source": [
    "# Matrix multiplication\n",
    "print(np.matmul(X, I))"
   ]
  },
  {
   "cell_type": "markdown",
   "metadata": {},
   "source": [
    "## Extras\n",
    "1. Trace\n",
    "2. Transpose\n",
    "3. Properties \n",
    "4. Types of Matrices\n",
    "5. Symmetric and Skew-Symmetric Matrices\n",
    "6. Adjoint\n",
    "7. Inverse"
   ]
  }
 ],
 "metadata": {
  "kernelspec": {
   "display_name": "Python 3",
   "language": "python",
   "name": "python3"
  },
  "language_info": {
   "codemirror_mode": {
    "name": "ipython",
    "version": 3
   },
   "file_extension": ".py",
   "mimetype": "text/x-python",
   "name": "python",
   "nbconvert_exporter": "python",
   "pygments_lexer": "ipython3",
   "version": "3.12.1"
  }
 },
 "nbformat": 4,
 "nbformat_minor": 2
}

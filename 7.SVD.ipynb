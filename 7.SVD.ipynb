{
 "cells": [
  {
   "cell_type": "markdown",
   "metadata": {},
   "source": [
    "## 7. Singular Value Decomposition"
   ]
  },
  {
   "cell_type": "markdown",
   "metadata": {},
   "source": [
    "### Singular Value Decomposition (SVD)\n",
    "\n",
    "Singular Value Decomposition (SVD) is a fundamental concept in linear algebra, where a matrix \\( A \\) is decomposed into three matrices as follows:\n",
    "\n",
    "$$[ A = U \\Sigma V^T ]$$\n",
    "\n",
    "where:\n",
    "- $U$ is an $m \\times m$ unitary matrix (i.e., $U^T U = I$, where $I$ is the identity matrix).\n",
    "- $\\Sigma$ is an $m \\times n$ rectangular diagonal matrix containing the singular values of $A$.\n",
    "- $V^T$ is an $n \\times n$ unitary matrix.\n",
    "\n",
    "SVD is a powerful technique used in various applications such as dimensionality reduction, data compression, and least squares regression.\n",
    "\n"
   ]
  },
  {
   "cell_type": "code",
   "execution_count": 1,
   "metadata": {},
   "outputs": [
    {
     "name": "stdout",
     "output_type": "stream",
     "text": [
      "U matrix:\n",
      "[[-0.21483724  0.88723069  0.40824829]\n",
      " [-0.52058739  0.24964395 -0.81649658]\n",
      " [-0.82633754 -0.38794278  0.40824829]]\n",
      "\n",
      "Sigma matrix:\n",
      "[[1.68481034e+01 0.00000000e+00 0.00000000e+00]\n",
      " [0.00000000e+00 1.06836951e+00 0.00000000e+00]\n",
      " [0.00000000e+00 0.00000000e+00 3.33475287e-16]]\n",
      "\n",
      "V transpose matrix:\n",
      "[[-0.47967118 -0.57236779 -0.66506441]\n",
      " [-0.77669099 -0.07568647  0.62531805]\n",
      " [-0.40824829  0.81649658 -0.40824829]]\n"
     ]
    }
   ],
   "source": [
    "#### Python Implementation\n",
    "\n",
    "#You can use libraries like NumPy to compute the Singular Value Decomposition of a matrix. Here's an example Python code:\n",
    "\n",
    "\n",
    "import numpy as np\n",
    "\n",
    "# Define a matrix\n",
    "A = np.array([[1, 2, 3],\n",
    "              [4, 5, 6],\n",
    "              [7, 8, 9]])\n",
    "\n",
    "# Compute Singular Value Decomposition\n",
    "U, Sigma, Vt = np.linalg.svd(A)\n",
    "\n",
    "# Print results\n",
    "print(\"U matrix:\")\n",
    "print(U)\n",
    "print(\"\\nSigma matrix:\")\n",
    "print(np.diag(Sigma))\n",
    "print(\"\\nV transpose matrix:\")\n",
    "print(Vt)\n"
   ]
  }
 ],
 "metadata": {
  "kernelspec": {
   "display_name": "Python 3",
   "language": "python",
   "name": "python3"
  },
  "language_info": {
   "codemirror_mode": {
    "name": "ipython",
    "version": 3
   },
   "file_extension": ".py",
   "mimetype": "text/x-python",
   "name": "python",
   "nbconvert_exporter": "python",
   "pygments_lexer": "ipython3",
   "version": "3.12.1"
  }
 },
 "nbformat": 4,
 "nbformat_minor": 2
}

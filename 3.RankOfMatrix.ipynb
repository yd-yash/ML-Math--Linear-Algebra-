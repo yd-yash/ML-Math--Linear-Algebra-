{
 "cells": [
  {
   "cell_type": "markdown",
   "metadata": {},
   "source": [
    "### 3. Rank Of a Matrix"
   ]
  },
  {
   "cell_type": "markdown",
   "metadata": {},
   "source": [
    "##### What is rank?"
   ]
  },
  {
   "cell_type": "markdown",
   "metadata": {},
   "source": [
    "The number of linearly independent columns of a matrix $A ∈ R_{m×n}$\n",
    "equals the number of linearly independent rows and is called the rank rank\n",
    "of $A$ and is denoted by $r(A)$"
   ]
  },
  {
   "cell_type": "markdown",
   "metadata": {},
   "source": [
    "Order of maximum non vanishing minors of a matrix \n",
    "\n",
    "- Non vanishing minors means  $Det(A) \\neq 0$\n",
    "\n",
    "If we have a non singular matrix of order 'n' then rank of that matrix is 'n' "
   ]
  }
 ],
 "metadata": {
  "language_info": {
   "name": "python"
  }
 },
 "nbformat": 4,
 "nbformat_minor": 2
}

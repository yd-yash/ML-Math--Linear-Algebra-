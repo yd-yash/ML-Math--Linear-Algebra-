{
 "cells": [
  {
   "cell_type": "markdown",
   "metadata": {},
   "source": [
    "# Linear Algebra"
   ]
  },
  {
   "cell_type": "markdown",
   "metadata": {},
   "source": [
    "## Topics Covered : \n",
    "- System of linear equations\n",
    "- Vector Spaces\n",
    "- Matrices\n",
    "- Linear Transformation\n",
    "- Matrix - Vector Multiplication\n",
    "- Eigenvalues and Eigenvectors\n",
    "- Singular Value Decomposition"
   ]
  },
  {
   "cell_type": "markdown",
   "metadata": {},
   "source": [
    "### 1. System Of Linear Equations"
   ]
  },
  {
   "cell_type": "markdown",
   "metadata": {},
   "source": [
    "A **system of linear equations** is a set of two or more linear equations with the same variables. A linear equation in $n$ variables $x_1, x_2, \\ldots, x_n$ can be written in the form:\n",
    "   \n",
    "$$\\\n",
    "a_1x_1 + b_1x_2 + c_1x_3 = b_1\\\\\n",
    "a_2x_1 + b_2x_2 + c_2x_3 = b_2\\\\\n",
    "a_3x_1 + b_3x_2 + c_3x_3 = b_3\\\\\n",
    "$$\n",
    "$$a_1x_1 + a_2x_2 + \\ldots + a_nx_n = b$$\n",
    "\n",
    "where $a_1, a_2, \\ldots, a_n$ and $b_i$ are real numbers.\n",
    "\n",
    "The goal is to find the values of the variables $x_1, x_2, \\ldots, x_n$ that satisfy all the equations in the system simultaneously."
   ]
  },
  {
   "cell_type": "markdown",
   "metadata": {},
   "source": [
    "There are various ways to find solution to a system of linear equations:\n",
    "1. Gaussian Elimination\n",
    "2. Gauss-Jordan Elimination\n",
    "3. Cramer's Rule\n",
    "4. Inverse Matrix Rule\n",
    "... and so on"
   ]
  },
  {
   "cell_type": "markdown",
   "metadata": {},
   "source": [
    "### Homogeneous System Of Linear Equations\n",
    "\n",
    "$$a_1x + b_1y + c_1z = 0$$  \n",
    "$$a_2x + b_2y + c_2z = 0$$   \n",
    "$$a_3x + b_3y + c_3z = 0$$   \n",
    "\n",
    "$$\\implies AX = \\vec{0}$$\n",
    "\n",
    "$A = \\begin{bmatrix}\n",
    "a_1 & b_1 & c_1\\\\\n",
    "a_2 & b_2 & c_2\\\\\n",
    "a_3 & b_3 & c_3\n",
    "\\end{bmatrix}$, $X = \\begin{bmatrix}\n",
    "x\\\\\n",
    "y\\\\\n",
    "z\n",
    "\\end{bmatrix}$, $\\vec{0} = \\begin{bmatrix}\n",
    "0\\\\\n",
    "0\\\\\n",
    "0\n",
    "\\end{bmatrix}$"
   ]
  },
  {
   "cell_type": "markdown",
   "metadata": {},
   "source": [
    "#### For solution of Homogeneous SLE\n",
    "\n",
    "Step 1: Check whether the coefficient matrix $A$ is a square matrix or not\n",
    "\n",
    "Step 2: If $A$ is square matrix then find $|A|$ (determinant of $A$) \n",
    "- If $|A| = 0$ the system has infinitely many solutions    \n",
    "-  If $|A| \\neq 0$ then the system has a unique(zero) solution\n",
    "\n",
    "If $A$ is not a square matrix the find $r(A)$\n",
    "- If $r(A) =$ Number of variables then system will have a unique solution\n",
    "- If $r(A) <$ Number of variables then system will have infintely many solutions\n",
    "\n"
   ]
  },
  {
   "cell_type": "markdown",
   "metadata": {},
   "source": [
    "### Non Homogeneous System of Linear Equations\n",
    "\n",
    "$$a_1x + b_1y + c_1z = d_1$$  \n",
    "$$a_2x + b_2y + c_2z = d_2$$   \n",
    "$$a_3x + b_3y + c_3z = d_3$$   \n",
    "\n",
    "$$\\implies AX = B$$\n",
    "\n",
    "$A = \\begin{bmatrix}\n",
    "a_1 & b_1 & c_1\\\\\n",
    "a_2 & b_2 & c_2\\\\\n",
    "a_3 & b_3 & c_3\n",
    "\\end{bmatrix}$, $X = \\begin{bmatrix}\n",
    "x\\\\\n",
    "y\\\\\n",
    "z\n",
    "\\end{bmatrix}$, $B = \\begin{bmatrix}\n",
    "d_1\\\\\n",
    "d_2\\\\\n",
    "d_3\n",
    "\\end{bmatrix}$"
   ]
  },
  {
   "cell_type": "markdown",
   "metadata": {},
   "source": [
    "#### For solution of Non-Homogeneous SLE\n",
    "\n",
    "Step 1: Find $r(A)$ and $r[A|B]$\n",
    "\n",
    "Step 2: \n",
    "- If $r(A) = r[A|B]$ then system has consistent solution\n",
    "\n",
    "- If $r(A) \\neq r[A|B]$ then the system has inconsistency in its solutions\n",
    "\n",
    "Step 3: For the consistent solution i.e. $r(A) = r[A|B]$ \n",
    "- If $r(A) =$ Number of variables then system will have a unique solution\n",
    "- If $r(A) <$ Number of variables then system will have infintely many solutions`"
   ]
  },
  {
   "cell_type": "markdown",
   "metadata": {},
   "source": [
    "### Gaussian Elimination Algorithm\n"
   ]
  },
  {
   "cell_type": "markdown",
   "metadata": {},
   "source": [
    "\n",
    "1. Input: Coefficient matrix $A$  of size $( n \\times n )$ and constant vector $b$ of size $n$.\n",
    "2. Augmented Matrix Construct the augmented matrix $[A|b]$.\n",
    "3. Forward Elimination\n",
    "   - For each pivot row $k$ from $1$ to $n-1$:\n",
    "     - Partial Pivoting: Find the row $i$ with the largest absolute value in the $k^{th}$ column and swap rows $k$ and $i$.\n",
    "     - For each row $i$ from $k+1$ to $n$:\n",
    "       - Compute the factor $( \\frac{{A_{ik}}}{{A_{kk}}} )$.\n",
    "       - Update rows $i$ from column $k$ to $n+1$ by subtracting $( \\frac{{A_{ik}}}{{A_{kk}}} )$ times row $k$.\n",
    "4. Back Substitution:\n",
    "   - For $i$ from $n$ to $1$:\n",
    "     - Compute $x_i$ as $( \\frac{{b_i - \\sum_{j=i+1}^{n} A_{ij}x_j}}{{A_{ii}}} )$.\n",
    "5. Output Solution vector $x$."
   ]
  },
  {
   "cell_type": "code",
   "execution_count": 4,
   "metadata": {},
   "outputs": [],
   "source": []
  },
  {
   "cell_type": "markdown",
   "metadata": {},
   "source": [
    "\n",
    "A system of $m$ linear equations in $n$ variables can be written in matrix form as:\n",
    "\n",
    "$$\n",
    "\\begin{bmatrix}\n",
    "a_{11} & a_{12} & \\ldots & a_{1n} \\\\\n",
    "a_{21} & a_{22} & \\ldots & a_{2n} \\\\\n",
    "\\vdots & \\vdots & \\ddots & \\vdots \\\\\n",
    "a_{m1} & a_{m2} & \\ldots & a_{mn}\n",
    "\\end{bmatrix}\n",
    "\\begin{bmatrix}\n",
    "x_1 \\\\\n",
    "x_2 \\\\\n",
    "\\vdots \\\\\n",
    "x_n\n",
    "\\end{bmatrix}\n",
    "=\n",
    "\\begin{bmatrix}\n",
    "b_1 \\\\\n",
    "b_2 \\\\\n",
    "\\vdots \\\\\n",
    "b_m\n",
    "\\end{bmatrix}\n",
    "$$\n",
    "\n",
    "or more compactly as:\n",
    "\n",
    "$$Ax = b$$\n",
    "\n",
    "where $A$ is an $m \\times n$ matrix of coefficients, $x$ is a column vector of $n$ variables, and $b$ is a column vector of $m$ constants.\n"
   ]
  },
  {
   "cell_type": "markdown",
   "metadata": {},
   "source": [
    "?? Code for gaussian eliminations algo"
   ]
  }
 ],
 "metadata": {
  "kernelspec": {
   "display_name": "Python 3",
   "language": "python",
   "name": "python3"
  },
  "language_info": {
   "codemirror_mode": {
    "name": "ipython",
    "version": 3
   },
   "file_extension": ".py",
   "mimetype": "text/x-python",
   "name": "python",
   "nbconvert_exporter": "python",
   "pygments_lexer": "ipython3",
   "version": "3.12.1"
  }
 },
 "nbformat": 4,
 "nbformat_minor": 2
}

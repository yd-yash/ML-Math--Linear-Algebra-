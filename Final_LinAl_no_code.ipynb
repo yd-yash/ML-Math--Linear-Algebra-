{
 "cells": [
  {
   "cell_type": "markdown",
   "metadata": {},
   "source": [
    "# Linear Algebra"
   ]
  },
  {
   "cell_type": "markdown",
   "metadata": {},
   "source": [
    "## Topics Covered : \n",
    "- Vectors\n",
    "- Matrices\n",
    "- System of linear equations\n",
    "- Rank of a Matrix \n",
    "- Linear Transformation\n",
    "- Eigenvalues and Eigenvectors\n",
    "- Singular Value Decomposition"
   ]
  },
  {
   "cell_type": "markdown",
   "metadata": {},
   "source": [
    "### 1. Vectors"
   ]
  },
  {
   "cell_type": "markdown",
   "metadata": {},
   "source": [
    "Vectors are fundamental mathematical objects that have both magnitude (length) and direction. "
   ]
  },
  {
   "cell_type": "markdown",
   "metadata": {},
   "source": [
    "##### Vector Notations\n",
    "\n",
    "$$v \\epsilon \\mathbb{R}^d $$   \n",
    "where $\\mathbb{R}^d$ is a d-dimensional real space\n",
    "\n",
    "$$v = \\begin{bmatrix}\n",
    "v_1\\\\\n",
    "v_2\\\\\n",
    "\\vdots \\\\\n",
    "v_d\n",
    "\\end{bmatrix}$$\n",
    "\n",
    "$v^T = [v_1 v_2 \\ldots v_d]$\n"
   ]
  },
  {
   "cell_type": "markdown",
   "metadata": {},
   "source": [
    "#### Basic Vector Operations"
   ]
  },
  {
   "cell_type": "code",
   "execution_count": null,
   "metadata": {},
   "outputs": [],
   "source": [
    "#import libraries"
   ]
  },
  {
   "cell_type": "markdown",
   "metadata": {},
   "source": [
    "##### Plotting a vector "
   ]
  },
  {
   "cell_type": "code",
   "execution_count": null,
   "metadata": {},
   "outputs": [],
   "source": [
    "#plot a vector"
   ]
  },
  {
   "cell_type": "code",
   "execution_count": null,
   "metadata": {},
   "outputs": [],
   "source": [
    "#plot another vector with more details"
   ]
  },
  {
   "cell_type": "markdown",
   "metadata": {},
   "source": [
    "##### Addition of Vectors"
   ]
  },
  {
   "cell_type": "code",
   "execution_count": null,
   "metadata": {},
   "outputs": [],
   "source": [
    "#c'mon you can add two vectors"
   ]
  },
  {
   "cell_type": "code",
   "execution_count": null,
   "metadata": {},
   "outputs": [],
   "source": [
    "#can you plot addition of vectors??"
   ]
  },
  {
   "cell_type": "markdown",
   "metadata": {},
   "source": [
    "##### Subtraction of Vectors"
   ]
  },
  {
   "cell_type": "code",
   "execution_count": null,
   "metadata": {},
   "outputs": [],
   "source": [
    "#just subtraction of vectors"
   ]
  },
  {
   "cell_type": "code",
   "execution_count": null,
   "metadata": {},
   "outputs": [],
   "source": [
    "#plot the subtracted vectors"
   ]
  },
  {
   "cell_type": "markdown",
   "metadata": {},
   "source": [
    "##### Multiplication of Vector by a scalar"
   ]
  },
  {
   "cell_type": "code",
   "execution_count": null,
   "metadata": {},
   "outputs": [],
   "source": [
    "#multiply a vector by a scalar"
   ]
  },
  {
   "cell_type": "code",
   "execution_count": null,
   "metadata": {},
   "outputs": [],
   "source": [
    "#plot it "
   ]
  },
  {
   "cell_type": "markdown",
   "metadata": {},
   "source": [
    "##### Dot Product"
   ]
  },
  {
   "cell_type": "code",
   "execution_count": null,
   "metadata": {},
   "outputs": [],
   "source": [
    "# Dot product of two vectors"
   ]
  },
  {
   "cell_type": "code",
   "execution_count": null,
   "metadata": {},
   "outputs": [],
   "source": [
    "#Another way to perform dot product"
   ]
  },
  {
   "cell_type": "markdown",
   "metadata": {},
   "source": [
    "##### Cross Product"
   ]
  },
  {
   "cell_type": "code",
   "execution_count": null,
   "metadata": {},
   "outputs": [],
   "source": [
    "#Cross Product of two vectors"
   ]
  },
  {
   "cell_type": "code",
   "execution_count": null,
   "metadata": {},
   "outputs": [],
   "source": [
    "#Another example "
   ]
  },
  {
   "cell_type": "markdown",
   "metadata": {},
   "source": [
    "##### Projection of a vector on another vector\n",
    "\n",
    "proj(**a**, **b**) = [(**a**.**b**) / ||**b**||^2].**b**\n"
   ]
  },
  {
   "cell_type": "code",
   "execution_count": null,
   "metadata": {},
   "outputs": [],
   "source": [
    "#Make a vector lie over another one "
   ]
  },
  {
   "cell_type": "markdown",
   "metadata": {},
   "source": [
    "### 2. Matrices"
   ]
  },
  {
   "cell_type": "markdown",
   "metadata": {},
   "source": [
    "#### How a matrix is formed\n",
    "\n",
    "These elements are obtained from the system of linear equations:\n",
    "\n",
    "$$\\\n",
    "a_1x + b_1y + c_1z = d_1\\\\\n",
    "a_2x + b_2y + c_2z = d_2\\\\\n",
    "a_3x + b_3y + c_3z = d_3\\\\\n",
    "$$\n",
    "\n",
    "$$\\begin{bmatrix}\n",
    "a_1 & b_1 & c_1\\\\\n",
    "a_2 & b_2 & c_2\\\\\n",
    "a_3 & b_3 & c_3\n",
    "\\end{bmatrix}\n",
    "\\begin{bmatrix}\n",
    "x\\\\\n",
    "y\\\\\n",
    "z\n",
    "\\end{bmatrix}\n",
    "=\n",
    "\\begin{bmatrix}\n",
    "d_1\\\\\n",
    "d_2\\\\\n",
    "d_3\n",
    "\\end{bmatrix}$$\n",
    "   "
   ]
  },
  {
   "cell_type": "markdown",
   "metadata": {},
   "source": [
    "#### Basic Matrix Operations"
   ]
  },
  {
   "cell_type": "code",
   "execution_count": null,
   "metadata": {},
   "outputs": [],
   "source": [
    "import numpy as np"
   ]
  },
  {
   "cell_type": "markdown",
   "metadata": {},
   "source": [
    "##### Matrix addition"
   ]
  },
  {
   "cell_type": "code",
   "execution_count": null,
   "metadata": {},
   "outputs": [],
   "source": [
    "A = np.array([\n",
    "    [2, 3],\n",
    "    [4, 5],\n",
    "])\n",
    "\n",
    "B = np.array([\n",
    "    [6, 7],\n",
    "    [8, 9],\n",
    "])\n",
    "\n",
    "A + B"
   ]
  },
  {
   "cell_type": "markdown",
   "metadata": {},
   "source": [
    "##### Matrix Substraction"
   ]
  },
  {
   "cell_type": "code",
   "execution_count": null,
   "metadata": {},
   "outputs": [],
   "source": [
    "A = np.array([\n",
    "    [2, 3],\n",
    "    [4, 5],\n",
    "])\n",
    "\n",
    "B = np.array([\n",
    "    [6, 7],\n",
    "    [8, 9],\n",
    "])\n",
    "\n",
    "A - B"
   ]
  },
  {
   "cell_type": "markdown",
   "metadata": {},
   "source": [
    "##### Dimensions of a Matrix"
   ]
  },
  {
   "cell_type": "code",
   "execution_count": null,
   "metadata": {},
   "outputs": [],
   "source": [
    "A.shape"
   ]
  },
  {
   "cell_type": "markdown",
   "metadata": {},
   "source": [
    "##### Creating a matrix with random values"
   ]
  },
  {
   "cell_type": "code",
   "execution_count": null,
   "metadata": {},
   "outputs": [],
   "source": [
    "mat1 = np.random.randint(10, size=(3, 3))\n",
    "mat2 = np.random.randint(20, size=(3, 3)) #20 is upper bound\n",
    "print(mat1, mat2, sep='\\n')"
   ]
  },
  {
   "cell_type": "code",
   "execution_count": null,
   "metadata": {},
   "outputs": [],
   "source": [
    "print(np.add(mat1, mat2))\n",
    "print(np.subtract(mat1, mat2))"
   ]
  },
  {
   "cell_type": "markdown",
   "metadata": {},
   "source": [
    "##### Matrix Multiplication"
   ]
  },
  {
   "cell_type": "code",
   "execution_count": null,
   "metadata": {},
   "outputs": [],
   "source": [
    "# Multiplying a matrix by a scalar\n",
    "x = 5\n",
    "X = np.random.randint(5, size=(3, 3))\n",
    "\n",
    "print(X)\n",
    "print(x * X)\n",
    "print(np.multiply(x, X))"
   ]
  },
  {
   "cell_type": "code",
   "execution_count": null,
   "metadata": {},
   "outputs": [],
   "source": [
    "# Matrix multiplication\n",
    "print(np.matmul(X, I))"
   ]
  },
  {
   "cell_type": "markdown",
   "metadata": {},
   "source": [
    "### 3. System of Linear Equations"
   ]
  },
  {
   "cell_type": "markdown",
   "metadata": {},
   "source": [
    "A **system of linear equations** is a set of two or more linear equations with the same variables. A linear equation in $n$ variables $x_1, x_2, \\ldots, x_n$ can be written in the form:\n",
    "   \n",
    "$$\\\n",
    "a_1x_1 + b_1x_2 + c_1x_3 = b_1\\\\\n",
    "a_2x_1 + b_2x_2 + c_2x_3 = b_2\\\\\n",
    "a_3x_1 + b_3x_2 + c_3x_3 = b_3\\\\\n",
    "$$\n",
    "$$a_1x_1 + a_2x_2 + \\ldots + a_nx_n = b$$\n",
    "\n",
    "where $a_1, a_2, \\ldots, a_n$ and $b_i$ are real numbers.\n",
    "\n",
    "The goal is to find the values of the variables $x_1, x_2, \\ldots, x_n$ that satisfy all the equations in the system simultaneously."
   ]
  },
  {
   "cell_type": "markdown",
   "metadata": {},
   "source": [
    "There are various ways to find solution to a system of linear equations:\n",
    "1. Gaussian Elimination\n",
    "2. Gauss-Jordan Elimination\n",
    "3. Cramer's Rule\n",
    "4. Inverse Matrix Rule\n",
    "... and so on"
   ]
  },
  {
   "cell_type": "markdown",
   "metadata": {},
   "source": [
    "### 4. Rank of a Matrix"
   ]
  },
  {
   "cell_type": "markdown",
   "metadata": {},
   "source": [
    "##### What is rank?\n",
    "\n",
    "The number of linearly independent columns of a matrix $A ∈ R_{m×n}$\n",
    "equals the number of linearly independent rows and is called the rank rank\n",
    "of $A$ and is denoted by $r(A)$\n",
    "\n",
    "Order of maximum non vanishing minors of a matrix \n",
    "\n",
    "- Non vanishing minors means  $Det(A) \\neq 0$\n",
    "\n",
    "If we have a non singular matrix of order 'n' then rank of that matrix is 'n' "
   ]
  },
  {
   "cell_type": "markdown",
   "metadata": {},
   "source": [
    "### 5. Solving System of Linear Equations"
   ]
  },
  {
   "cell_type": "markdown",
   "metadata": {},
   "source": [
    "#### Homogeneous System Of Linear Equations\n",
    "\n",
    "$$a_1x + b_1y + c_1z = 0$$  \n",
    "$$a_2x + b_2y + c_2z = 0$$   \n",
    "$$a_3x + b_3y + c_3z = 0$$   \n",
    "\n",
    "$$\\implies AX = \\vec{0}$$\n",
    "\n",
    "$A = \\begin{bmatrix}\n",
    "a_1 & b_1 & c_1\\\\\n",
    "a_2 & b_2 & c_2\\\\\n",
    "a_3 & b_3 & c_3\n",
    "\\end{bmatrix}$, $X = \\begin{bmatrix}\n",
    "x\\\\\n",
    "y\\\\\n",
    "z\n",
    "\\end{bmatrix}$, $\\vec{0} = \\begin{bmatrix}\n",
    "0\\\\\n",
    "0\\\\\n",
    "0\n",
    "\\end{bmatrix}$"
   ]
  },
  {
   "cell_type": "markdown",
   "metadata": {},
   "source": [
    "#### For solution of Homogeneous SLE\n",
    "\n",
    "Step 1: Check whether the coefficient matrix $A$ is a square matrix or not\n",
    "\n",
    "Step 2: If $A$ is square matrix then find $|A|$ (determinant of $A$) \n",
    "- If $|A| = 0$ the system has infinitely many solutions    \n",
    "-  If $|A| \\neq 0$ then the system has a unique(zero) solution\n",
    "\n",
    "If $A$ is not a square matrix the find $r(A)$\n",
    "- If $r(A) =$ Number of variables then system will have a unique solution\n",
    "- If $r(A) <$ Number of variables then system will have infintely many solutions\n",
    "\n"
   ]
  },
  {
   "cell_type": "markdown",
   "metadata": {},
   "source": [
    "#### Non Homogeneous System of Linear Equations\n",
    "\n",
    "$$a_1x + b_1y + c_1z = d_1$$  \n",
    "$$a_2x + b_2y + c_2z = d_2$$   \n",
    "$$a_3x + b_3y + c_3z = d_3$$   \n",
    "\n",
    "$$\\implies AX = B$$\n",
    "\n",
    "$A = \\begin{bmatrix}\n",
    "a_1 & b_1 & c_1\\\\\n",
    "a_2 & b_2 & c_2\\\\\n",
    "a_3 & b_3 & c_3\n",
    "\\end{bmatrix}$, $X = \\begin{bmatrix}\n",
    "x\\\\\n",
    "y\\\\\n",
    "z\n",
    "\\end{bmatrix}$, $B = \\begin{bmatrix}\n",
    "d_1\\\\\n",
    "d_2\\\\\n",
    "d_3\n",
    "\\end{bmatrix}$"
   ]
  },
  {
   "cell_type": "markdown",
   "metadata": {},
   "source": [
    "#### For solution of Non-Homogeneous SLE\n",
    "\n",
    "Step 1: Find $r(A)$ and $r[A|B]$\n",
    "\n",
    "Step 2: \n",
    "- If $r(A) = r[A|B]$ then system has consistent solution\n",
    "\n",
    "- If $r(A) \\neq r[A|B]$ then the system has inconsistency in its solutions\n",
    "\n",
    "Step 3: For the consistent solution i.e. $r(A) = r[A|B]$ \n",
    "- If $r(A) =$ Number of variables then system will have a unique solution\n",
    "- If $r(A) <$ Number of variables then system will have infintely many solutions`"
   ]
  },
  {
   "cell_type": "markdown",
   "metadata": {},
   "source": [
    "#### Gaussian Elimination Algorithm"
   ]
  },
  {
   "cell_type": "markdown",
   "metadata": {},
   "source": [
    "\n",
    "1. Input: Coefficient matrix $A$  of size $( n \\times n )$ and constant vector $b$ of size $n$.\n",
    "2. Augmented Matrix Construct the augmented matrix $[A|b]$.\n",
    "3. Forward Elimination\n",
    "   - For each pivot row $k$ from $1$ to $n-1$:\n",
    "     - Partial Pivoting: Find the row $i$ with the largest absolute value in the $k^{th}$ column and swap rows $k$ and $i$.\n",
    "     - For each row $i$ from $k+1$ to $n$:\n",
    "       - Compute the factor $( \\frac{{A_{ik}}}{{A_{kk}}} )$.\n",
    "       - Update rows $i$ from column $k$ to $n+1$ by subtracting $( \\frac{{A_{ik}}}{{A_{kk}}} )$ times row $k$.\n",
    "4. Back Substitution:\n",
    "   - For $i$ from $n$ to $1$:\n",
    "     - Compute $x_i$ as $( \\frac{{b_i - \\sum_{j=i+1}^{n} A_{ij}x_j}}{{A_{ii}}} )$.\n",
    "5. Output Solution vector $x$."
   ]
  },
  {
   "cell_type": "markdown",
   "metadata": {},
   "source": [
    "### 6. Linear Transformations"
   ]
  },
  {
   "cell_type": "markdown",
   "metadata": {},
   "source": [
    "#### Representation by Matrices\n",
    "In linear algebra, a linear transformation $T: \\mathbb{R}^n \\rightarrow \\mathbb{R}^m$ can be represented by an $m \\times n$ matrix $A$. If $\\vec{x}$ is a column vector in $\\mathbb{R}^n$, then $T(\\vec{x})$ is given by the matrix-vector multiplication:\n",
    "\n",
    "$$\n",
    "T(\\vec{x}) = A\\vec{x}\n",
    "$$\n",
    "\n",
    "##### Scaling\n",
    "A scaling transformation multiplies the components of a vector by a scalar value. It can be represented by a diagonal matrix:\n",
    "\n",
    "$$\n",
    "S = \\begin{bmatrix}\n",
    "s_1 & 0 & \\cdots & 0 \\\\\n",
    "0 & s_2 & \\cdots & 0 \\\\\n",
    "\\vdots & \\vdots & \\ddots & \\vdots \\\\\n",
    "0 & 0 & \\cdots & s_n\n",
    "\\end{bmatrix}\n",
    "$$\n",
    "\n",
    "##### Rotation\n",
    "In 2D, a rotation transformation can be represented by a $2 \\times 2$ matrix:\n",
    "\n",
    "$$\n",
    "R(\\theta) = \\begin{bmatrix}\n",
    "\\cos(\\theta) & -\\sin(\\theta) \\\\\n",
    "\\sin(\\theta) & \\cos(\\theta)\n",
    "\\end{bmatrix}\n",
    "$$\n",
    "\n",
    "##### Shearing\n",
    "A shearing transformation can be represented by a matrix with non-zero values along the diagonal and the elements above or below the diagonal.\n",
    "\n",
    "$$\n",
    "H = \\begin{bmatrix}\n",
    "1 & k \\\\\n",
    "0 & 1\n",
    "\\end{bmatrix}\n",
    "$$"
   ]
  },
  {
   "cell_type": "code",
   "execution_count": null,
   "metadata": {},
   "outputs": [],
   "source": [
    "import numpy as np\n",
    "import matplotlib.pyplot as plt\n",
    "\n",
    "\n",
    "v = np.array([1, 2])\n",
    "\n",
    "# Scaling\n",
    "scaling_matrix = np.array([[2, 0],\n",
    "                            [0, 3]])\n",
    "scaled_v = scaling_matrix @ v\n",
    "print(f\"Scaled vector: {scaled_v}\")\n",
    "\n",
    "# Rotation\n",
    "theta = np.pi / 4\n",
    "rotation_matrix = np.array([[np.cos(theta), -np.sin(theta)],\n",
    "                            [np.sin(theta), np.cos(theta)]])\n",
    "rotated_v = rotation_matrix @ v\n",
    "print(f\"Rotated vector: {rotated_v}\")\n",
    "\n",
    "# Shearing\n",
    "shearing_matrix = np.array([[1, 1],\n",
    "                             [0, 1]])\n",
    "sheared_v = shearing_matrix @ v\n",
    "print(f\"Sheared vector: {sheared_v}\")\n",
    "\n",
    "\n",
    "plt.quiver([0], [0], [v[0]], [v[1]], angles='xy', scale_units='xy', scale=1, color='r')\n",
    "plt.quiver([0], [0], [scaled_v[0]], [scaled_v[1]], angles='xy', scale_units='xy', scale=1, color='g')\n",
    "plt.quiver([0], [0], [rotated_v[0]], [rotated_v[1]], angles='xy', scale_units='xy', scale=1, color='b')\n",
    "plt.quiver([0], [0], [sheared_v[0]], [sheared_v[1]], angles='xy', scale_units='xy', scale=1, color='m')\n",
    "plt.xlim([-4, 4])\n",
    "plt.ylim([-8, 8])\n",
    "plt.show()"
   ]
  },
  {
   "cell_type": "markdown",
   "metadata": {},
   "source": [
    "### 7. Eigenvalues and Eigenvectors"
   ]
  },
  {
   "cell_type": "markdown",
   "metadata": {},
   "source": [
    "In linear algebra, given a square matrix $A$, a non-zero vector $X$ is an eigenvector of $A$ if there exists a scalar $\\lambda$, called an eigenvalue, such that:\n",
    "\n",
    "$$[ A X = \\lambda X ]$$\n",
    "\n",
    "This equation can also be written as:\n",
    "\n",
    "$$[ (A - \\lambda I) X = 0]$$\n",
    "\n",
    "where $I$ is the identity matrix.\n",
    "\n",
    "The eigenvalues $\\lambda$ are the roots of the characteristic polynomial  $\\det(A - \\lambda I) = 0$\n",
    "\n"
   ]
  },
  {
   "cell_type": "code",
   "execution_count": null,
   "metadata": {},
   "outputs": [],
   "source": [
    "#you know you can calculate eigen values in just one line"
   ]
  },
  {
   "cell_type": "markdown",
   "metadata": {},
   "source": [
    "### 8. Singular Value Decomposition"
   ]
  },
  {
   "cell_type": "markdown",
   "metadata": {},
   "source": [
    "#### Singular Value Decomposition (SVD)\n",
    "\n",
    "Singular Value Decomposition (SVD) is a fundamental concept in linear algebra, where a matrix \\( A \\) is decomposed into three matrices as follows:\n",
    "\n",
    "$$[ A = U \\Sigma V^T ]$$\n",
    "\n",
    "where:\n",
    "- $U$ is an $m \\times m$ unitary matrix (i.e., $U^T U = I$, where $I$ is the identity matrix).\n",
    "- $\\Sigma$ is an $m \\times n$ rectangular diagonal matrix containing the singular values of $A$.\n",
    "- $V^T$ is an $n \\times n$ unitary matrix.\n",
    "\n",
    "SVD is a powerful technique used in various applications such as dimensionality reduction, data compression, and least squares regression.\n",
    "\n"
   ]
  },
  {
   "cell_type": "code",
   "execution_count": null,
   "metadata": {},
   "outputs": [],
   "source": [
    "#SVD !!!!\n"
   ]
  }
 ],
 "metadata": {
  "kernelspec": {
   "display_name": "Python 3",
   "language": "python",
   "name": "python3"
  },
  "language_info": {
   "codemirror_mode": {
    "name": "ipython",
    "version": 3
   },
   "file_extension": ".py",
   "mimetype": "text/x-python",
   "name": "python",
   "nbconvert_exporter": "python",
   "pygments_lexer": "ipython3",
   "version": "3.12.1"
  }
 },
 "nbformat": 4,
 "nbformat_minor": 2
}

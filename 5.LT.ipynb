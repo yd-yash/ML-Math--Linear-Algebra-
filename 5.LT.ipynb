{
 "cells": [
  {
   "cell_type": "markdown",
   "metadata": {},
   "source": [
    "## 5. Linear Transformations"
   ]
  },
  {
   "cell_type": "markdown",
   "metadata": {},
   "source": [
    "# Linear Transformations\n",
    "\n",
    "## Representation by Matrices\n",
    "In linear algebra, a linear transformation $T: \\mathbb{R}^n \\rightarrow \\mathbb{R}^m$ can be represented by an $m \\times n$ matrix $A$. If $\\vec{x}$ is a column vector in $\\mathbb{R}^n$, then $T(\\vec{x})$ is given by the matrix-vector multiplication:\n",
    "\n",
    "$$\n",
    "T(\\vec{x}) = A\\vec{x}\n",
    "$$\n",
    "\n",
    "## Scaling\n",
    "A scaling transformation multiplies the components of a vector by a scalar value. It can be represented by a diagonal matrix:\n",
    "\n",
    "$$\n",
    "S = \\begin{bmatrix}\n",
    "s_1 & 0 & \\cdots & 0 \\\\\n",
    "0 & s_2 & \\cdots & 0 \\\\\n",
    "\\vdots & \\vdots & \\ddots & \\vdots \\\\\n",
    "0 & 0 & \\cdots & s_n\n",
    "\\end{bmatrix}\n",
    "$$\n",
    "\n",
    "## Rotation\n",
    "In 2D, a rotation transformation can be represented by a $2 \\times 2$ matrix:\n",
    "\n",
    "$$\n",
    "R(\\theta) = \\begin{bmatrix}\n",
    "\\cos(\\theta) & -\\sin(\\theta) \\\\\n",
    "\\sin(\\theta) & \\cos(\\theta)\n",
    "\\end{bmatrix}\n",
    "$$\n",
    "\n",
    "## Shearing\n",
    "A shearing transformation can be represented by a matrix with non-zero values along the diagonal and the elements above or below the diagonal.\n",
    "\n",
    "$$\n",
    "H = \\begin{bmatrix}\n",
    "1 & k \\\\\n",
    "0 & 1\n",
    "\\end{bmatrix}\n",
    "$$\n",
    "\n"
   ]
  },
  {
   "cell_type": "code",
   "execution_count": 1,
   "metadata": {},
   "outputs": [
    {
     "name": "stdout",
     "output_type": "stream",
     "text": [
      "Scaled vector: [2 6]\n",
      "Rotated vector: [-0.70710678  2.12132034]\n",
      "Sheared vector: [3 2]\n"
     ]
    },
    {
     "data": {
      "image/png": "[encoded data removed]",
      "text/plain": [
       "<Figure size 640x480 with 1 Axes>"
      ]
     },
     "metadata": {},
     "output_type": "display_data"
    }
   ],
   "source": [
    "## Python Code for Geometric Representation\n",
    "\n",
    "import numpy as np\n",
    "import matplotlib.pyplot as plt\n",
    "\n",
    "# Vector\n",
    "v = np.array([1, 2])\n",
    "\n",
    "# Scaling\n",
    "scaling_matrix = np.array([[2, 0],\n",
    "                            [0, 3]])\n",
    "scaled_v = scaling_matrix @ v\n",
    "print(f\"Scaled vector: {scaled_v}\")\n",
    "\n",
    "# Rotation\n",
    "theta = np.pi / 4  # 45 degrees\n",
    "rotation_matrix = np.array([[np.cos(theta), -np.sin(theta)],\n",
    "                            [np.sin(theta), np.cos(theta)]])\n",
    "rotated_v = rotation_matrix @ v\n",
    "print(f\"Rotated vector: {rotated_v}\")\n",
    "\n",
    "# Shearing\n",
    "shearing_matrix = np.array([[1, 1],\n",
    "                             [0, 1]])\n",
    "sheared_v = shearing_matrix @ v\n",
    "print(f\"Sheared vector: {sheared_v}\")\n",
    "\n",
    "# Plotting\n",
    "plt.quiver([0], [0], [v[0]], [v[1]], angles='xy', scale_units='xy', scale=1, color='r')\n",
    "plt.quiver([0], [0], [scaled_v[0]], [scaled_v[1]], angles='xy', scale_units='xy', scale=1, color='g')\n",
    "plt.quiver([0], [0], [rotated_v[0]], [rotated_v[1]], angles='xy', scale_units='xy', scale=1, color='b')\n",
    "plt.quiver([0], [0], [sheared_v[0]], [sheared_v[1]], angles='xy', scale_units='xy', scale=1, color='m')\n",
    "plt.xlim([-4, 4])\n",
    "plt.ylim([-4, 4])\n",
    "plt.grid()\n",
    "plt.show()"
   ]
  }
 ],
 "metadata": {
  "kernelspec": {
   "display_name": "Python 3",
   "language": "python",
   "name": "python3"
  },
  "language_info": {
   "codemirror_mode": {
    "name": "ipython",
    "version": 3
   },
   "file_extension": ".py",
   "mimetype": "text/x-python",
   "name": "python",
   "nbconvert_exporter": "python",
   "pygments_lexer": "ipython3",
   "version": "3.12.1"
  }
 },
 "nbformat": 4,
 "nbformat_minor": 2
}
